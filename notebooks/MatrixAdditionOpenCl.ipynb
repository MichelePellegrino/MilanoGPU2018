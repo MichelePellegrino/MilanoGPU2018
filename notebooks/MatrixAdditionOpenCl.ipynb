{
 "cells": [
  {
   "cell_type": "markdown",
   "metadata": {},
   "source": [
    "# License\n",
    "\n",
    "    Jupyter notebook for accessing OpenCL\n",
    "    Copyright (C) 2015, 2018 Andre.Brodtkorb@ifi.uio.no\n",
    "\n",
    "    This program is free software: you can redistribute it and/or modify\n",
    "    it under the terms of the GNU General Public License as published by\n",
    "    the Free Software Foundation, either version 3 of the License, or\n",
    "    (at your option) any later version.\n",
    "\n",
    "    This program is distributed in the hope that it will be useful,\n",
    "    but WITHOUT ANY WARRANTY; without even the implied warranty of\n",
    "    MERCHANTABILITY or FITNESS FOR A PARTICULAR PURPOSE.  See the\n",
    "    GNU General Public License for more details.\n",
    "\n",
    "    You should have received a copy of the GNU General Public License\n",
    "    along with this program.  If not, see <http://www.gnu.org/licenses/>."
   ]
  },
  {
   "cell_type": "code",
   "execution_count": 1,
   "metadata": {},
   "outputs": [],
   "source": [
    "#Lets have matplotlib \"inline\"\n",
    "%matplotlib inline\n",
    "\n",
    "#Lets have opencl ipython integration enabled\n",
    "%load_ext pyopencl.ipython_ext\n",
    "\n",
    "#Import packages we need\n",
    "import os\n",
    "import numpy as np\n",
    "import pyopencl as cl\n",
    "\n",
    "from matplotlib import pyplot as plt\n",
    "\n",
    "#Make sure we get compiler output from OpenCL\n",
    "import os\n",
    "os.environ[\"PYOPENCL_COMPILER_OUTPUT\"] = \"1\""
   ]
  },
  {
   "cell_type": "code",
   "execution_count": 2,
   "metadata": {},
   "outputs": [
    {
     "name": "stdout",
     "output_type": "stream",
     "text": [
      "Using  Intel(R) Xeon(R) CPU E5-2686 v4 @ 2.30GHz\n"
     ]
    }
   ],
   "source": [
    "#Determine which GPU to use\n",
    "os.environ[\"PYOPENCL_CTX\"] = \"1\"\n",
    "\n",
    "#Create OpenCL context\n",
    "cl_ctx = cl.create_some_context()\n",
    "\n",
    "print(\"Using \", cl_ctx.devices[0].name)\n",
    "\n",
    "#Create an OpenCL command queue\n",
    "cl_queue = cl.CommandQueue(cl_ctx)"
   ]
  },
  {
   "cell_type": "code",
   "execution_count": 4,
   "metadata": {},
   "outputs": [
    {
     "name": "stderr",
     "output_type": "stream",
     "text": [
      "/home/ubuntu/.local/lib/python3.6/site-packages/pyopencl/cffi_cl.py:1517: CompilerWarning: From-source build succeeded, but resulted in non-empty logs:\n",
      "Build on <pyopencl.Device 'Intel(R) Xeon(R) CPU E5-2686 v4 @ 2.30GHz' on 'Intel(R) OpenCL' at 0x1cdbf38> succeeded, but said:\n",
      "\n",
      "Compilation started\n",
      "Compilation done\n",
      "Linking started\n",
      "Linking done\n",
      "Device build started\n",
      "Device build done\n",
      "Kernel <addKernel> was successfully vectorized (8)\n",
      "Done.\n",
      "  warn(text, CompilerWarning)\n"
     ]
    }
   ],
   "source": [
    "%%cl_kernel \n",
    "// Need to change this into 2D adding columns\n",
    "__kernel void addKernel(__global float *c, __global const float *a, __global const float *b) {\n",
    "  int gid = get_global_id(0);   \n",
    "  c[gid] = a[gid] + b[gid];\n",
    "}"
   ]
  },
  {
   "cell_type": "code",
   "execution_count": 5,
   "metadata": {},
   "outputs": [
    {
     "data": {
      "text/plain": [
       "<pyopencl.cffi_cl.NannyEvent at 0x7f74387ce9e8>"
      ]
     },
     "execution_count": 5,
     "metadata": {},
     "output_type": "execute_result"
    }
   ],
   "source": [
    "#Size of our test\n",
    "n = 50\n",
    "\n",
    "#Create test input / output data\n",
    "# For matrix addition, need to use np.random (2D)\n",
    "a = np.random.rand(n).astype(np.float32)\n",
    "b = np.random.rand(n).astype(np.float32)\n",
    "c = np.empty_like(a)\n",
    "\n",
    "#Upload data to the device\n",
    "mf = cl.mem_flags\n",
    "a_g = cl.Buffer(cl_ctx, mf.READ_ONLY | mf.COPY_HOST_PTR, hostbuf=a)\n",
    "b_g = cl.Buffer(cl_ctx, mf.READ_ONLY | mf.COPY_HOST_PTR, hostbuf=b)\n",
    "\n",
    "#Allocate output data\n",
    "c_g = cl.Buffer(cl_ctx, mf.WRITE_ONLY, a.nbytes)\n",
    "\n",
    "#Execute program on device\n",
    "addKernel(cl_queue, a.shape, None, c_g, a_g, b_g)\n",
    "\n",
    "#Copy data from device to host\n",
    "cl.enqueue_copy(cl_queue, c, c_g)"
   ]
  },
  {
   "cell_type": "code",
   "execution_count": 6,
   "metadata": {},
   "outputs": [
    {
     "name": "stdout",
     "output_type": "stream",
     "text": [
      "C   =  [0.7279904  1.5872304  0.8235245  0.50708133 0.4039169  0.7912406\n",
      " 0.5658711  1.5996612  1.4519693  1.5061655  1.1930472  1.2307041\n",
      " 0.40090835 1.1482602  1.5283202  0.4924037  0.5836265  0.94762874\n",
      " 0.83073556 0.6086941  1.478321   0.60046077 1.2118863  0.757021\n",
      " 1.1087797  0.80716103 0.8719288  0.23657143 0.6070888  1.6099856\n",
      " 0.6905747  1.7898788  0.6468785  0.46574962 1.3134729  0.8794927\n",
      " 1.3119597  0.194637   0.59308445 1.4378737  1.1077833  0.97068995\n",
      " 1.2722063  0.71167564 0.48584703 1.1251416  0.29188216 1.3468632\n",
      " 0.950814   1.2186131 ]\n",
      "Ref =  [0.7279904  1.5872304  0.8235245  0.50708133 0.4039169  0.7912406\n",
      " 0.5658711  1.5996612  1.4519693  1.5061655  1.1930472  1.2307041\n",
      " 0.40090835 1.1482602  1.5283202  0.4924037  0.5836265  0.94762874\n",
      " 0.83073556 0.6086941  1.478321   0.60046077 1.2118863  0.757021\n",
      " 1.1087797  0.80716103 0.8719288  0.23657143 0.6070888  1.6099856\n",
      " 0.6905747  1.7898788  0.6468785  0.46574962 1.3134729  0.8794927\n",
      " 1.3119597  0.194637   0.59308445 1.4378737  1.1077833  0.97068995\n",
      " 1.2722063  0.71167564 0.48584703 1.1251416  0.29188216 1.3468632\n",
      " 0.950814   1.2186131 ]\n",
      "Sad =  0.0\n"
     ]
    }
   ],
   "source": [
    "#Compute reference using Numpy\n",
    "c_ref = a + b\n",
    "\n",
    "#Print result\n",
    "print(\"C   = \", c)\n",
    "print(\"Ref = \", c_ref)\n",
    "print(\"Sad = \", np.sum(np.abs(c - c_ref)))"
   ]
  },
  {
   "cell_type": "code",
   "execution_count": 7,
   "metadata": {},
   "outputs": [
    {
     "data": {
      "text/plain": [
       "[<matplotlib.lines.Line2D at 0x7f74387ce1d0>]"
      ]
     },
     "execution_count": 7,
     "metadata": {},
     "output_type": "execute_result"
    },
    {
     "data": {
      "image/png": "[encoded data removed]",
      "text/plain": [
       "<matplotlib.figure.Figure at 0x7f74387c1ac8>"
      ]
     },
     "metadata": {
      "needs_background": "light"
     },
     "output_type": "display_data"
    }
   ],
   "source": [
    "plt.figure()\n",
    "plt.plot(c, '+r')\n",
    "plt.plot(c_ref, 'xb')"
   ]
  },
  {
   "cell_type": "code",
   "execution_count": null,
   "metadata": {
    "collapsed": true
   },
   "outputs": [],
   "source": []
  }
 ],
 "metadata": {
  "kernelspec": {
   "display_name": "Python 3",
   "language": "python",
   "name": "python3"
  },
  "language_info": {
   "codemirror_mode": {
    "name": "ipython",
    "version": 3
   },
   "file_extension": ".py",
   "mimetype": "text/x-python",
   "name": "python",
   "nbconvert_exporter": "python",
   "pygments_lexer": "ipython3",
   "version": "3.6.6"
  }
 },
 "nbformat": 4,
 "nbformat_minor": 2
}
