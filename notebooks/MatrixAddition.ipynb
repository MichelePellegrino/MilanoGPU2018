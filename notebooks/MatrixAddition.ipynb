{
 "cells": [
  {
   "cell_type": "markdown",
   "metadata": {},
   "source": [
    "# License\n",
    "\n",
    "    Jupyter notebook for accessing CUDA\n",
    "    Copyright (C) 2018 Andre.Brodtkorb@ifi.uio.no\n",
    "\n",
    "    This program is free software: you can redistribute it and/or modify\n",
    "    it under the terms of the GNU General Public License as published by\n",
    "    the Free Software Foundation, either version 3 of the License, or\n",
    "    (at your option) any later version.\n",
    "\n",
    "    This program is distributed in the hope that it will be useful,\n",
    "    but WITHOUT ANY WARRANTY; without even the implied warranty of\n",
    "    MERCHANTABILITY or FITNESS FOR A PARTICULAR PURPOSE.  See the\n",
    "    GNU General Public License for more details.\n",
    "\n",
    "    You should have received a copy of the GNU General Public License\n",
    "    along with this program.  If not, see <http://www.gnu.org/licenses/>."
   ]
  },
  {
   "cell_type": "code",
   "execution_count": 13,
   "metadata": {},
   "outputs": [],
   "source": [
    "#Lets have matplotlib \"inline\"\n",
    "%matplotlib inline\n",
    "\n",
    "#Import packages we need\n",
    "import numpy as np\n",
    "import pycuda.compiler as cuda_compiler\n",
    "from pycuda.gpuarray import GPUArray\n",
    "import pycuda.driver as cuda_driver\n",
    "\n",
    "from matplotlib import pyplot as plt"
   ]
  },
  {
   "cell_type": "code",
   "execution_count": 14,
   "metadata": {},
   "outputs": [],
   "source": [
    "#Initialize CUDA - must be first call to CUDA!\n",
    "cuda_driver.init()"
   ]
  },
  {
   "cell_type": "code",
   "execution_count": 15,
   "metadata": {},
   "outputs": [
    {
     "name": "stdout",
     "output_type": "stream",
     "text": [
      "Using 'Tesla K80'\n",
      " => compute capability: (3, 7)\n",
      " => memory: 9247 / 11441 MB available\n"
     ]
    }
   ],
   "source": [
    "#Create CUDA context\n",
    "cuda_device = cuda_driver.Device(0)\n",
    "print(\"Using '{:s}'\".format(cuda_device.name()))\n",
    "print(\" => compute capability: {:s}\".format(str(cuda_device.compute_capability())))\n",
    "context = cuda_device.make_context()\n",
    "free, total = cuda_driver.mem_get_info()\n",
    "print(\" => memory: {:d} / {:d} MB available\".format(int(free/(1024*1024)), int(total/(1024*1024))))"
   ]
  },
  {
   "cell_type": "code",
   "execution_count": 16,
   "metadata": {},
   "outputs": [],
   "source": [
    "cuda_kernel = \"\"\"\n",
    "__global__ void addVectorKernel(float* c, float* a, float* b) {\n",
    "    unsigned int i = blockIdx.x*blockDim.x + threadIdx.x;\n",
    "    c[i] = a[i] + b[i];\n",
    "}\n",
    "\n",
    "__global__ void addMatrixKernel(float* c, float* a, float* b, int cols) {\n",
    "    unsigned int i = blockIdx.x*blockDim.x + threadIdx.x;\n",
    "    unsigned int j = blockIdx.y*blockDim.y + threadIdx.y;\n",
    "    /*\n",
    "        c[j][i] = a[j][i] + b[j][i];\n",
    "    */\n",
    "        unsigned int k = j*cols+i;\n",
    "        c[k] = a[k]+b[k];\n",
    "}\n",
    "\"\"\"\n",
    "module = cuda_compiler.SourceModule(cuda_kernel)\n",
    "kernel = module.get_function(\"addMatrixKernel\");"
   ]
  },
  {
   "cell_type": "code",
   "execution_count": 17,
   "metadata": {},
   "outputs": [
    {
     "data": {
      "image/png": "[encoded data removed]",
      "text/plain": [
       "<matplotlib.figure.Figure at 0x7f43a9bd6710>"
      ]
     },
     "metadata": {
      "needs_background": "light"
     },
     "output_type": "display_data"
    }
   ],
   "source": [
    "#Size of our test\n",
    "test_size = (16,24)\n",
    "\n",
    "#Create test input / output data\n",
    "a = np.random.random(test_size).astype(np.float32)\n",
    "b = np.random.random(test_size).astype(np.float32)\n",
    "c = np.empty_like(a)\n",
    "\n",
    "fig = plt.figure(figsize=(12,8))\n",
    "plt.imshow(a)\n",
    "plt.colorbar()\n",
    "fig.show()"
   ]
  },
  {
   "cell_type": "code",
   "execution_count": 18,
   "metadata": {},
   "outputs": [
    {
     "name": "stdout",
     "output_type": "stream",
     "text": [
      "(16, 24)\n"
     ]
    }
   ],
   "source": [
    "print(a.shape)"
   ]
  },
  {
   "cell_type": "code",
   "execution_count": 19,
   "metadata": {},
   "outputs": [],
   "source": [
    "#Upload data to the device\n",
    "a_g = GPUArray(a.shape, np.float32)\n",
    "b_g = GPUArray(b.shape, np.float32)\n",
    "a_g.set(a)\n",
    "b_g.set(b)"
   ]
  },
  {
   "cell_type": "code",
   "execution_count": 20,
   "metadata": {},
   "outputs": [],
   "source": [
    "#Allocate output data\n",
    "c_g = GPUArray(c.shape, np.float32)"
   ]
  },
  {
   "cell_type": "code",
   "execution_count": 21,
   "metadata": {},
   "outputs": [
    {
     "name": "stdout",
     "output_type": "stream",
     "text": [
      "(24, 16)\n",
      "(8, 8, 1)\n",
      "(3, 2, 1)\n"
     ]
    }
   ],
   "source": [
    "domain_size = (a.shape[1],a.shape[0])\n",
    "block_size = (8, 8, 1)\n",
    "grid_size = (domain_size[0]//block_size[0], domain_size[1]//block_size[1], 1)\n",
    "print(domain_size)\n",
    "print(block_size)\n",
    "print(grid_size)"
   ]
  },
  {
   "cell_type": "code",
   "execution_count": 22,
   "metadata": {},
   "outputs": [
    {
     "data": {
      "text/plain": [
       "array([[1.4070165 , 0.19265616, 0.70661646, 1.281127  , 0.5745083 ,\n",
       "        1.2849038 , 0.36216578, 1.4638908 , 1.3183032 , 1.2677687 ,\n",
       "        1.1776528 , 1.4203341 , 0.8969526 , 1.1675272 , 1.47887   ,\n",
       "        0.3907321 , 1.1042815 , 1.0792699 , 0.96492916, 0.44543484,\n",
       "        1.3177025 , 1.1678903 , 0.97441435, 1.3084824 ],\n",
       "       [0.9524473 , 1.0330893 , 0.96998346, 0.9556355 , 0.9496594 ,\n",
       "        0.6144464 , 0.8836353 , 1.4656723 , 0.41267884, 0.9556067 ,\n",
       "        0.7381888 , 1.1734157 , 1.209008  , 0.9843575 , 0.6091582 ,\n",
       "        1.3817582 , 1.2035415 , 0.8939109 , 1.2891556 , 0.9809025 ,\n",
       "        0.52748847, 0.31124327, 0.9624941 , 1.0093293 ],\n",
       "       [0.48662165, 0.93825746, 1.6791233 , 1.01198   , 0.7257611 ,\n",
       "        0.73522055, 1.0565438 , 1.0948266 , 1.6903818 , 0.62745494,\n",
       "        1.2440135 , 0.8747128 , 1.3715146 , 1.079814  , 1.441843  ,\n",
       "        0.7505316 , 1.8107145 , 1.0736333 , 1.2612334 , 1.2663577 ,\n",
       "        0.33440137, 1.2754815 , 0.7677433 , 1.7319491 ],\n",
       "       [0.6681983 , 0.36825377, 0.72058487, 0.7745985 , 1.3522942 ,\n",
       "        1.2774062 , 0.91577756, 1.5308602 , 1.2528962 , 1.3733269 ,\n",
       "        0.65754855, 0.92574173, 1.0911272 , 1.4216402 , 0.9690166 ,\n",
       "        1.1209631 , 0.39295125, 1.2196771 , 0.48055536, 0.8679117 ,\n",
       "        1.5693347 , 1.8131557 , 0.9354189 , 1.3616985 ],\n",
       "       [1.1266956 , 1.7208893 , 1.8393157 , 0.40975052, 0.985336  ,\n",
       "        1.5023057 , 1.0994563 , 1.7948599 , 1.5007367 , 0.9833629 ,\n",
       "        1.5225637 , 0.91771704, 0.63570684, 0.8216789 , 0.35051665,\n",
       "        0.61819977, 1.0405921 , 0.763183  , 0.14543961, 0.918563  ,\n",
       "        0.60981303, 0.88751024, 1.529995  , 1.1326312 ],\n",
       "       [1.0715296 , 0.7137667 , 0.64253604, 0.2771283 , 0.56748265,\n",
       "        1.4328003 , 0.70994824, 0.86094743, 1.7579746 , 1.9050066 ,\n",
       "        0.69599694, 0.99302995, 1.2154448 , 0.8083761 , 0.7617814 ,\n",
       "        0.9984429 , 0.3799025 , 1.1167215 , 0.6178002 , 0.55416656,\n",
       "        1.1594131 , 0.8611165 , 1.6556697 , 0.73935837],\n",
       "       [1.3552856 , 0.603788  , 1.2547188 , 0.6914533 , 1.2786059 ,\n",
       "        1.1890298 , 1.3421483 , 1.2053111 , 1.089517  , 0.64363194,\n",
       "        0.74323624, 0.44315755, 0.658148  , 1.4148225 , 1.3260317 ,\n",
       "        1.1702574 , 1.4175442 , 1.5668049 , 1.0460892 , 0.74652606,\n",
       "        1.466033  , 1.1051378 , 1.6156553 , 1.1397941 ],\n",
       "       [0.6494614 , 0.20503527, 1.2994888 , 0.49927533, 1.1500313 ,\n",
       "        0.67312706, 1.0700357 , 1.174828  , 0.53365064, 0.73339754,\n",
       "        0.959716  , 0.8946798 , 0.7720753 , 1.5441325 , 1.1988585 ,\n",
       "        1.0186777 , 1.3528991 , 0.6094924 , 1.2478664 , 1.6163006 ,\n",
       "        0.89876455, 0.8568342 , 1.173581  , 0.87598586],\n",
       "       [1.042967  , 1.6987491 , 0.6073871 , 1.3364537 , 0.96530426,\n",
       "        1.1330662 , 0.35517263, 1.9227817 , 1.7973915 , 1.1890495 ,\n",
       "        0.5272597 , 1.4353166 , 1.5540007 , 1.2662883 , 1.3401159 ,\n",
       "        1.7827525 , 1.4224477 , 1.0174181 , 0.6777678 , 1.4948032 ,\n",
       "        1.6332088 , 1.2265985 , 1.19637   , 1.3498358 ],\n",
       "       [1.4930551 , 1.2658589 , 1.2058111 , 1.0686157 , 1.2054406 ,\n",
       "        1.4433804 , 0.42727312, 1.4014225 , 0.8020474 , 0.28366107,\n",
       "        1.2429297 , 0.8402642 , 0.37989458, 1.3793302 , 1.2016613 ,\n",
       "        0.3091573 , 1.3465717 , 1.0203211 , 0.7875056 , 1.4992452 ,\n",
       "        0.92167175, 0.86361945, 1.4879403 , 0.74271715],\n",
       "       [1.534686  , 1.6999764 , 1.220531  , 1.7585957 , 0.84907734,\n",
       "        0.21187669, 1.6661637 , 0.8889108 , 1.1841836 , 1.0460632 ,\n",
       "        1.1360035 , 0.42276818, 0.6941691 , 0.76022255, 0.5844015 ,\n",
       "        0.6827946 , 0.2954523 , 0.99365336, 0.8833873 , 0.9273983 ,\n",
       "        1.0455744 , 0.85579455, 1.6424942 , 1.2778122 ],\n",
       "       [1.2453647 , 0.20206591, 1.3227097 , 0.0917675 , 1.0467067 ,\n",
       "        0.91574794, 1.4336203 , 1.3083234 , 0.6129921 , 0.697408  ,\n",
       "        0.68282753, 0.19942603, 0.5035262 , 0.88393503, 0.7931464 ,\n",
       "        0.51268405, 0.67740947, 1.5798628 , 0.23272926, 0.18832037,\n",
       "        0.43911758, 0.84670687, 0.5034832 , 0.71250415],\n",
       "       [0.6655711 , 1.2250006 , 1.121455  , 1.386293  , 1.067807  ,\n",
       "        0.7808868 , 0.9968913 , 1.215612  , 1.2794718 , 1.6471405 ,\n",
       "        1.4342728 , 0.89844644, 1.4559597 , 1.6713967 , 1.384969  ,\n",
       "        0.63500106, 0.8177363 , 1.1112448 , 1.7257317 , 1.5045738 ,\n",
       "        1.6271386 , 0.41763973, 0.6277921 , 1.2417804 ],\n",
       "       [0.64353555, 0.50214   , 1.0980139 , 0.63046   , 1.2274431 ,\n",
       "        0.77631927, 0.9087064 , 0.96879554, 0.90076405, 0.5677841 ,\n",
       "        0.7464489 , 0.80619997, 0.85641146, 0.98215425, 0.7239507 ,\n",
       "        1.4531221 , 1.171531  , 0.80340165, 0.7120039 , 1.1872351 ,\n",
       "        0.5020015 , 1.2157553 , 1.5184178 , 1.2352648 ],\n",
       "       [1.2021863 , 1.3067855 , 1.1212769 , 0.6298819 , 0.38763505,\n",
       "        1.4342386 , 1.0736333 , 1.074177  , 0.74011374, 1.2576971 ,\n",
       "        1.2248172 , 1.0023857 , 0.9621275 , 1.5111493 , 1.2910962 ,\n",
       "        0.5229902 , 1.3375418 , 1.1490458 , 0.43408433, 1.3874786 ,\n",
       "        1.0819589 , 1.0702009 , 1.0344665 , 0.4631949 ],\n",
       "       [0.45291   , 0.88303035, 0.73229146, 1.3174355 , 1.5475049 ,\n",
       "        0.6215802 , 1.3884658 , 0.7457588 , 1.0767744 , 1.4890156 ,\n",
       "        1.0811491 , 1.6587367 , 1.3615781 , 0.91484237, 0.77142185,\n",
       "        1.4680269 , 0.69100475, 1.3554536 , 1.0451523 , 0.51409066,\n",
       "        0.40162975, 1.2689784 , 0.73850274, 0.41718614]], dtype=float32)"
      ]
     },
     "execution_count": 22,
     "metadata": {},
     "output_type": "execute_result"
    }
   ],
   "source": [
    "#Execute program on device\n",
    "cols = domain_size[0]\n",
    "kernel(c_g, a_g, b_g, np.int32(cols), block=block_size, grid=grid_size)\n",
    "\n",
    "#Copy data from device to host\n",
    "c_g.get(c)"
   ]
  },
  {
   "cell_type": "code",
   "execution_count": 23,
   "metadata": {},
   "outputs": [
    {
     "name": "stdout",
     "output_type": "stream",
     "text": [
      "C   =  [[1.4070165  0.19265616 0.70661646 1.281127   0.5745083  1.2849038\n",
      "  0.36216578 1.4638908  1.3183032  1.2677687  1.1776528  1.4203341\n",
      "  0.8969526  1.1675272  1.47887    0.3907321  1.1042815  1.0792699\n",
      "  0.96492916 0.44543484 1.3177025  1.1678903  0.97441435 1.3084824 ]\n",
      " [0.9524473  1.0330893  0.96998346 0.9556355  0.9496594  0.6144464\n",
      "  0.8836353  1.4656723  0.41267884 0.9556067  0.7381888  1.1734157\n",
      "  1.209008   0.9843575  0.6091582  1.3817582  1.2035415  0.8939109\n",
      "  1.2891556  0.9809025  0.52748847 0.31124327 0.9624941  1.0093293 ]\n",
      " [0.48662165 0.93825746 1.6791233  1.01198    0.7257611  0.73522055\n",
      "  1.0565438  1.0948266  1.6903818  0.62745494 1.2440135  0.8747128\n",
      "  1.3715146  1.079814   1.441843   0.7505316  1.8107145  1.0736333\n",
      "  1.2612334  1.2663577  0.33440137 1.2754815  0.7677433  1.7319491 ]\n",
      " [0.6681983  0.36825377 0.72058487 0.7745985  1.3522942  1.2774062\n",
      "  0.91577756 1.5308602  1.2528962  1.3733269  0.65754855 0.92574173\n",
      "  1.0911272  1.4216402  0.9690166  1.1209631  0.39295125 1.2196771\n",
      "  0.48055536 0.8679117  1.5693347  1.8131557  0.9354189  1.3616985 ]\n",
      " [1.1266956  1.7208893  1.8393157  0.40975052 0.985336   1.5023057\n",
      "  1.0994563  1.7948599  1.5007367  0.9833629  1.5225637  0.91771704\n",
      "  0.63570684 0.8216789  0.35051665 0.61819977 1.0405921  0.763183\n",
      "  0.14543961 0.918563   0.60981303 0.88751024 1.529995   1.1326312 ]\n",
      " [1.0715296  0.7137667  0.64253604 0.2771283  0.56748265 1.4328003\n",
      "  0.70994824 0.86094743 1.7579746  1.9050066  0.69599694 0.99302995\n",
      "  1.2154448  0.8083761  0.7617814  0.9984429  0.3799025  1.1167215\n",
      "  0.6178002  0.55416656 1.1594131  0.8611165  1.6556697  0.73935837]\n",
      " [1.3552856  0.603788   1.2547188  0.6914533  1.2786059  1.1890298\n",
      "  1.3421483  1.2053111  1.089517   0.64363194 0.74323624 0.44315755\n",
      "  0.658148   1.4148225  1.3260317  1.1702574  1.4175442  1.5668049\n",
      "  1.0460892  0.74652606 1.466033   1.1051378  1.6156553  1.1397941 ]\n",
      " [0.6494614  0.20503527 1.2994888  0.49927533 1.1500313  0.67312706\n",
      "  1.0700357  1.174828   0.53365064 0.73339754 0.959716   0.8946798\n",
      "  0.7720753  1.5441325  1.1988585  1.0186777  1.3528991  0.6094924\n",
      "  1.2478664  1.6163006  0.89876455 0.8568342  1.173581   0.87598586]\n",
      " [1.042967   1.6987491  0.6073871  1.3364537  0.96530426 1.1330662\n",
      "  0.35517263 1.9227817  1.7973915  1.1890495  0.5272597  1.4353166\n",
      "  1.5540007  1.2662883  1.3401159  1.7827525  1.4224477  1.0174181\n",
      "  0.6777678  1.4948032  1.6332088  1.2265985  1.19637    1.3498358 ]\n",
      " [1.4930551  1.2658589  1.2058111  1.0686157  1.2054406  1.4433804\n",
      "  0.42727312 1.4014225  0.8020474  0.28366107 1.2429297  0.8402642\n",
      "  0.37989458 1.3793302  1.2016613  0.3091573  1.3465717  1.0203211\n",
      "  0.7875056  1.4992452  0.92167175 0.86361945 1.4879403  0.74271715]\n",
      " [1.534686   1.6999764  1.220531   1.7585957  0.84907734 0.21187669\n",
      "  1.6661637  0.8889108  1.1841836  1.0460632  1.1360035  0.42276818\n",
      "  0.6941691  0.76022255 0.5844015  0.6827946  0.2954523  0.99365336\n",
      "  0.8833873  0.9273983  1.0455744  0.85579455 1.6424942  1.2778122 ]\n",
      " [1.2453647  0.20206591 1.3227097  0.0917675  1.0467067  0.91574794\n",
      "  1.4336203  1.3083234  0.6129921  0.697408   0.68282753 0.19942603\n",
      "  0.5035262  0.88393503 0.7931464  0.51268405 0.67740947 1.5798628\n",
      "  0.23272926 0.18832037 0.43911758 0.84670687 0.5034832  0.71250415]\n",
      " [0.6655711  1.2250006  1.121455   1.386293   1.067807   0.7808868\n",
      "  0.9968913  1.215612   1.2794718  1.6471405  1.4342728  0.89844644\n",
      "  1.4559597  1.6713967  1.384969   0.63500106 0.8177363  1.1112448\n",
      "  1.7257317  1.5045738  1.6271386  0.41763973 0.6277921  1.2417804 ]\n",
      " [0.64353555 0.50214    1.0980139  0.63046    1.2274431  0.77631927\n",
      "  0.9087064  0.96879554 0.90076405 0.5677841  0.7464489  0.80619997\n",
      "  0.85641146 0.98215425 0.7239507  1.4531221  1.171531   0.80340165\n",
      "  0.7120039  1.1872351  0.5020015  1.2157553  1.5184178  1.2352648 ]\n",
      " [1.2021863  1.3067855  1.1212769  0.6298819  0.38763505 1.4342386\n",
      "  1.0736333  1.074177   0.74011374 1.2576971  1.2248172  1.0023857\n",
      "  0.9621275  1.5111493  1.2910962  0.5229902  1.3375418  1.1490458\n",
      "  0.43408433 1.3874786  1.0819589  1.0702009  1.0344665  0.4631949 ]\n",
      " [0.45291    0.88303035 0.73229146 1.3174355  1.5475049  0.6215802\n",
      "  1.3884658  0.7457588  1.0767744  1.4890156  1.0811491  1.6587367\n",
      "  1.3615781  0.91484237 0.77142185 1.4680269  0.69100475 1.3554536\n",
      "  1.0451523  0.51409066 0.40162975 1.2689784  0.73850274 0.41718614]]\n",
      "Ref =  [[1.4070165  0.19265616 0.70661646 1.281127   0.5745083  1.2849038\n",
      "  0.36216578 1.4638908  1.3183032  1.2677687  1.1776528  1.4203341\n",
      "  0.8969526  1.1675272  1.47887    0.3907321  1.1042815  1.0792699\n",
      "  0.96492916 0.44543484 1.3177025  1.1678903  0.97441435 1.3084824 ]\n",
      " [0.9524473  1.0330893  0.96998346 0.9556355  0.9496594  0.6144464\n",
      "  0.8836353  1.4656723  0.41267884 0.9556067  0.7381888  1.1734157\n",
      "  1.209008   0.9843575  0.6091582  1.3817582  1.2035415  0.8939109\n",
      "  1.2891556  0.9809025  0.52748847 0.31124327 0.9624941  1.0093293 ]\n",
      " [0.48662165 0.93825746 1.6791233  1.01198    0.7257611  0.73522055\n",
      "  1.0565438  1.0948266  1.6903818  0.62745494 1.2440135  0.8747128\n",
      "  1.3715146  1.079814   1.441843   0.7505316  1.8107145  1.0736333\n",
      "  1.2612334  1.2663577  0.33440137 1.2754815  0.7677433  1.7319491 ]\n",
      " [0.6681983  0.36825377 0.72058487 0.7745985  1.3522942  1.2774062\n",
      "  0.91577756 1.5308602  1.2528962  1.3733269  0.65754855 0.92574173\n",
      "  1.0911272  1.4216402  0.9690166  1.1209631  0.39295125 1.2196771\n",
      "  0.48055536 0.8679117  1.5693347  1.8131557  0.9354189  1.3616985 ]\n",
      " [1.1266956  1.7208893  1.8393157  0.40975052 0.985336   1.5023057\n",
      "  1.0994563  1.7948599  1.5007367  0.9833629  1.5225637  0.91771704\n",
      "  0.63570684 0.8216789  0.35051665 0.61819977 1.0405921  0.763183\n",
      "  0.14543961 0.918563   0.60981303 0.88751024 1.529995   1.1326312 ]\n",
      " [1.0715296  0.7137667  0.64253604 0.2771283  0.56748265 1.4328003\n",
      "  0.70994824 0.86094743 1.7579746  1.9050066  0.69599694 0.99302995\n",
      "  1.2154448  0.8083761  0.7617814  0.9984429  0.3799025  1.1167215\n",
      "  0.6178002  0.55416656 1.1594131  0.8611165  1.6556697  0.73935837]\n",
      " [1.3552856  0.603788   1.2547188  0.6914533  1.2786059  1.1890298\n",
      "  1.3421483  1.2053111  1.089517   0.64363194 0.74323624 0.44315755\n",
      "  0.658148   1.4148225  1.3260317  1.1702574  1.4175442  1.5668049\n",
      "  1.0460892  0.74652606 1.466033   1.1051378  1.6156553  1.1397941 ]\n",
      " [0.6494614  0.20503527 1.2994888  0.49927533 1.1500313  0.67312706\n",
      "  1.0700357  1.174828   0.53365064 0.73339754 0.959716   0.8946798\n",
      "  0.7720753  1.5441325  1.1988585  1.0186777  1.3528991  0.6094924\n",
      "  1.2478664  1.6163006  0.89876455 0.8568342  1.173581   0.87598586]\n",
      " [1.042967   1.6987491  0.6073871  1.3364537  0.96530426 1.1330662\n",
      "  0.35517263 1.9227817  1.7973915  1.1890495  0.5272597  1.4353166\n",
      "  1.5540007  1.2662883  1.3401159  1.7827525  1.4224477  1.0174181\n",
      "  0.6777678  1.4948032  1.6332088  1.2265985  1.19637    1.3498358 ]\n",
      " [1.4930551  1.2658589  1.2058111  1.0686157  1.2054406  1.4433804\n",
      "  0.42727312 1.4014225  0.8020474  0.28366107 1.2429297  0.8402642\n",
      "  0.37989458 1.3793302  1.2016613  0.3091573  1.3465717  1.0203211\n",
      "  0.7875056  1.4992452  0.92167175 0.86361945 1.4879403  0.74271715]\n",
      " [1.534686   1.6999764  1.220531   1.7585957  0.84907734 0.21187669\n",
      "  1.6661637  0.8889108  1.1841836  1.0460632  1.1360035  0.42276818\n",
      "  0.6941691  0.76022255 0.5844015  0.6827946  0.2954523  0.99365336\n",
      "  0.8833873  0.9273983  1.0455744  0.85579455 1.6424942  1.2778122 ]\n",
      " [1.2453647  0.20206591 1.3227097  0.0917675  1.0467067  0.91574794\n",
      "  1.4336203  1.3083234  0.6129921  0.697408   0.68282753 0.19942603\n",
      "  0.5035262  0.88393503 0.7931464  0.51268405 0.67740947 1.5798628\n",
      "  0.23272926 0.18832037 0.43911758 0.84670687 0.5034832  0.71250415]\n",
      " [0.6655711  1.2250006  1.121455   1.386293   1.067807   0.7808868\n",
      "  0.9968913  1.215612   1.2794718  1.6471405  1.4342728  0.89844644\n",
      "  1.4559597  1.6713967  1.384969   0.63500106 0.8177363  1.1112448\n",
      "  1.7257317  1.5045738  1.6271386  0.41763973 0.6277921  1.2417804 ]\n",
      " [0.64353555 0.50214    1.0980139  0.63046    1.2274431  0.77631927\n",
      "  0.9087064  0.96879554 0.90076405 0.5677841  0.7464489  0.80619997\n",
      "  0.85641146 0.98215425 0.7239507  1.4531221  1.171531   0.80340165\n",
      "  0.7120039  1.1872351  0.5020015  1.2157553  1.5184178  1.2352648 ]\n",
      " [1.2021863  1.3067855  1.1212769  0.6298819  0.38763505 1.4342386\n",
      "  1.0736333  1.074177   0.74011374 1.2576971  1.2248172  1.0023857\n",
      "  0.9621275  1.5111493  1.2910962  0.5229902  1.3375418  1.1490458\n",
      "  0.43408433 1.3874786  1.0819589  1.0702009  1.0344665  0.4631949 ]\n",
      " [0.45291    0.88303035 0.73229146 1.3174355  1.5475049  0.6215802\n",
      "  1.3884658  0.7457588  1.0767744  1.4890156  1.0811491  1.6587367\n",
      "  1.3615781  0.91484237 0.77142185 1.4680269  0.69100475 1.3554536\n",
      "  1.0451523  0.51409066 0.40162975 1.2689784  0.73850274 0.41718614]]\n",
      "Sad =  0.0\n"
     ]
    }
   ],
   "source": [
    "#Compute reference using Numpy\n",
    "c_ref = a + b\n",
    "\n",
    "#Print result\n",
    "print(\"C   = \", c)\n",
    "print(\"Ref = \", c_ref)\n",
    "print(\"Sad = \", np.sum(np.abs(c - c_ref)))"
   ]
  },
  {
   "cell_type": "code",
   "execution_count": 24,
   "metadata": {},
   "outputs": [
    {
     "data": {
      "text/plain": [
       "<matplotlib.image.AxesImage at 0x7f43a9ae8e80>"
      ]
     },
     "execution_count": 24,
     "metadata": {},
     "output_type": "execute_result"
    },
    {
     "data": {
      "image/png": "[encoded data removed]",
      "text/plain": [
       "<matplotlib.figure.Figure at 0x7f43a9b73358>"
      ]
     },
     "metadata": {
      "needs_background": "light"
     },
     "output_type": "display_data"
    }
   ],
   "source": [
    "fig = plt.figure(figsize=(12,8))\n",
    "plt.subplot(1,2,1)\n",
    "plt.imshow(c)\n",
    "plt.subplot(1,2,2)\n",
    "plt.imshow(c_ref)"
   ]
  },
  {
   "cell_type": "code",
   "execution_count": null,
   "metadata": {},
   "outputs": [],
   "source": []
  },
  {
   "cell_type": "code",
   "execution_count": null,
   "metadata": {},
   "outputs": [],
   "source": []
  }
 ],
 "metadata": {
  "kernelspec": {
   "display_name": "Python 3",
   "language": "python",
   "name": "python3"
  },
  "language_info": {
   "codemirror_mode": {
    "name": "ipython",
    "version": 3
   },
   "file_extension": ".py",
   "mimetype": "text/x-python",
   "name": "python",
   "nbconvert_exporter": "python",
   "pygments_lexer": "ipython3",
   "version": "3.6.6"
  }
 },
 "nbformat": 4,
 "nbformat_minor": 2
}
