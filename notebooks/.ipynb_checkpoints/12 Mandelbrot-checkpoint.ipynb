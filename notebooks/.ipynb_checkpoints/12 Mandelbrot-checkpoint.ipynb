{
 "cells": [
  {
   "cell_type": "markdown",
   "metadata": {},
   "source": [
    "# License\n",
    "\n",
    "    Jupyter notebook for computing Pi using Monte Carlo sampling\n",
    "    Copyright (C) 2018 Andre.Brodtkorb@ifi.uio.no\n",
    "\n",
    "    This program is free software: you can redistribute it and/or modify\n",
    "    it under the terms of the GNU General Public License as published by\n",
    "    the Free Software Foundation, either version 3 of the License, or\n",
    "    (at your option) any later version.\n",
    "\n",
    "    This program is distributed in the hope that it will be useful,\n",
    "    but WITHOUT ANY WARRANTY; without even the implied warranty of\n",
    "    MERCHANTABILITY or FITNESS FOR A PARTICULAR PURPOSE.  See the\n",
    "    GNU General Public License for more details.\n",
    "\n",
    "    You should have received a copy of the GNU General Public License\n",
    "    along with this program.  If not, see <http://www.gnu.org/licenses/>."
   ]
  },
  {
   "cell_type": "code",
   "execution_count": 42,
   "metadata": {},
   "outputs": [],
   "source": [
    "#Lets have matplotlib \"inline\"\n",
    "%matplotlib inline\n",
    "\n",
    "#Import packages we need\n",
    "import numpy as np\n",
    "import pycuda.compiler as cuda_compiler\n",
    "from pycuda.gpuarray import GPUArray\n",
    "import pycuda.driver as cuda_driver\n",
    "\n",
    "from matplotlib import pyplot as plt\n",
    "\n",
    "import IPythonMagic\n",
    "\n",
    "from Timer import Timer "
   ]
  },
  {
   "cell_type": "code",
   "execution_count": 43,
   "metadata": {},
   "outputs": [
    {
     "name": "stderr",
     "output_type": "stream",
     "text": [
      "Global logger already initialized!\n",
      "Registering context in user workspace\n",
      "Context already registered! Ignoring\n"
     ]
    }
   ],
   "source": [
    "%setup_logging\n",
    "%cuda_context_handler context"
   ]
  },
  {
   "cell_type": "code",
   "execution_count": 50,
   "metadata": {},
   "outputs": [],
   "source": [
    "cuda_kernel = \"\"\"\n",
    "__global__ void mandelbrot(float* output, unsigned int cols, float dx, float dy, int iterations) {\n",
    "    int i = blockIdx.x*blockDim.x + threadIdx.x;\n",
    "    int j = blockIdx.y*blockDim.y + threadIdx.y;\n",
    "    \n",
    "    float x = i*dx - 2;\n",
    "    float y = j*dy - 1;\n",
    "    \n",
    "    float2 z0 = make_float2(x, y);\n",
    "    float2 z = z0;\n",
    "    int k = 0;\n",
    "    \n",
    "    while (z.x*z.x + z.y*z.y < 25.0 && k < iterations) {\n",
    "        float tmp = z.x*z.x - z.y*z.y + z0.x;\n",
    "        z.y = 2*z.x*z.y + z0.y;\n",
    "        z.x = tmp;\n",
    "        ++k;\n",
    "    }\n",
    "    \n",
    "    if (k < iterations) {\n",
    "        output[j*cols+i] = fmod((k - log(log(sqrt(z.x*z.x+z.y*z.y))/log(5.0))/log(2.0)) / 100, 1.0);\n",
    "    }\n",
    "    else {\n",
    "        output[j*cols+i] = 0.0f;\n",
    "    }\n",
    "}\n",
    "\"\"\"\n",
    "# Setting options, architecture and model\n",
    "module = cuda_compiler.SourceModule(cuda_kernel, options=['--use_fast_math'], arch='compute_30', code='sm_37')\n",
    "# module = cuda_compiler.SourceModule(cuda_kernel)\n",
    "mandelbrot_kernel = module.get_function(\"mandelbrot\");"
   ]
  },
  {
   "cell_type": "code",
   "execution_count": 47,
   "metadata": {},
   "outputs": [
    {
     "name": "stderr",
     "output_type": "stream",
     "text": [
      "Allocation: 0.749350 ms\n"
     ]
    },
    {
     "name": "stdout",
     "output_type": "stream",
     "text": [
      "It took 0.0007493495941162109 seconds\n"
     ]
    },
    {
     "name": "stderr",
     "output_type": "stream",
     "text": [
      "Execution: 11144.621134 ms\n",
      "Download: 13.576508 ms\n"
     ]
    },
    {
     "name": "stdout",
     "output_type": "stream",
     "text": [
      "It took 11.144621133804321 seconds\n",
      "It took 0.013576507568359375 seconds\n"
     ]
    }
   ],
   "source": [
    "#Set block and grid size\n",
    "domain_size = (2048, 2048)\n",
    "block = (8, 8, 1)\n",
    "grid = (int(domain_size[0]/block[0]), int(domain_size[1]/block[1]), 1)\n",
    "\n",
    "dx = 3.0 / domain_size[0]\n",
    "dy = 2.0 / domain_size[1]\n",
    "\n",
    "context.synchronize()\n",
    "\n",
    "with Timer(\"Allocation\", logging.INFO) as t:\n",
    "    #Allocate the output data on the GPU and on the CPU\n",
    "    output = np.empty(domain_size, dtype=np.float32)\n",
    "    output_gpu = GPUArray(output.shape, np.float32)\n",
    "    context.synchronize()\n",
    "print(\"It took \" + str(t.secs) + \" seconds\")\n",
    "    \n",
    "with Timer(\"Execution\", logging.INFO) as t:\n",
    "    #Execute program on device\n",
    "    mandelbrot_kernel(output_gpu, np.int32(domain_size[0]), np.float32(dx), np.float32(dy), np.int32(1000000), block=block, grid=grid)\n",
    "    context.synchronize()\n",
    "print(\"It took \" + str(t.secs) + \" seconds\")\n",
    "  \n",
    "with Timer(\"Download\", logging.INFO) as t:\n",
    "    #Copy data from device to host\n",
    "    output_gpu.get(output)\n",
    "    context.synchronize()\n",
    "print(\"It took \" + str(t.secs) + \" seconds\")"
   ]
  },
  {
   "cell_type": "code",
   "execution_count": null,
   "metadata": {},
   "outputs": [],
   "source": [
    "plt.figure(figsize=(8,12))\n",
    "plt.imshow(output)"
   ]
  },
  {
   "cell_type": "code",
   "execution_count": null,
   "metadata": {},
   "outputs": [],
   "source": []
  },
  {
   "cell_type": "code",
   "execution_count": null,
   "metadata": {},
   "outputs": [],
   "source": []
  }
 ],
 "metadata": {
  "kernelspec": {
   "display_name": "Python 3",
   "language": "python",
   "name": "python3"
  },
  "language_info": {
   "codemirror_mode": {
    "name": "ipython",
    "version": 3
   },
   "file_extension": ".py",
   "mimetype": "text/x-python",
   "name": "python",
   "nbconvert_exporter": "python",
   "pygments_lexer": "ipython3",
   "version": "3.6.6"
  }
 },
 "nbformat": 4,
 "nbformat_minor": 2
}
